{
 "cells": [
  {
   "cell_type": "code",
   "execution_count": null,
   "metadata": {},
   "outputs": [],
   "source": [
    "%pip install pandas\n",
    "%pip install tweets-to-topic-network"
   ]
  },
  {
   "cell_type": "code",
   "execution_count": null,
   "metadata": {},
   "outputs": [],
   "source": [
    "import pandas as pd\n",
    "from tweets_to_topic_network.topic import Topic_modeler\n",
    "import sys\n",
    "import os\n"
   ]
  },
  {
   "cell_type": "code",
   "execution_count": null,
   "metadata": {},
   "outputs": [],
   "source": [
    "file_tweets = sys.argv[1] \n",
    "\n",
    "df = pd.read_pickle(file_tweets)\n",
    "\n",
    "df = df[df['referenced_type'].isna()]\n",
    "\n",
    "#get folder path\n",
    "folder_path = file_tweets.split('/')[:-1]\n",
    "folder_path = file_tweets.split('/')[:-1]\n",
    "folder_path = '/'.join(folder_path)\n",
    "path_cache = os.path.join(folder_path, 'cache')\n",
    "\n",
    "print(path_cache)\n",
    "\n",
    "\n",
    "df_en = df[df['lang'] == 'en']\n",
    "df_es = df[df['lang'] == 'es']\n",
    "df_fr = df[df['lang'] == 'fr']\n",
    "df_de = df[df['lang'] == 'de']\n",
    "\n",
    "print('English:', df_en.shape)\n",
    "\n",
    "\n",
    "# %%\n",
    "\n",
    "tm = Topic_modeler(df_en, name = 'cop_merged_en', embedder_name='all-MiniLM-L6-v2', path_cache = path_cache)\n",
    "df_labeled = tm.get_topics()\n",
    "\n",
    "# %%\n",
    "tm = Topic_modeler(df_en, name = 'cop_merged_en', embedder_name='paraphrase-MiniLM-L3-v2', path_cache = path_cache)\n",
    "df_labeled = tm.get_topics()"
   ]
  }
 ],
 "metadata": {
  "language_info": {
   "name": "python"
  }
 },
 "nbformat": 4,
 "nbformat_minor": 2
}
